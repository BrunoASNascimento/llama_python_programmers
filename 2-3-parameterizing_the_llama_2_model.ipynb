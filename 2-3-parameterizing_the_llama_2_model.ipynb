{
 "cells": [
  {
   "cell_type": "markdown",
   "metadata": {},
   "source": [
    "# Parameterizing the Llama 2 Model\n",
    "\n",
    "We've talked about some of the fundamentals of large language models -- llama 2 specifically -- and how they are\n",
    "nondeterministic probabalistic machines which predict token sequences based on their pretrained weights. If we want to\n",
    "(and I don't think this is done in deployment very often) we can actually observe some of the inner workings of this\n",
    "choice in llama.cpp by configuring the model when we load it. This is going to be helpful in getting a better\n",
    "understanding of how we can change the behavior of the model, so let's take a look.\n"
   ]
  },
  {
   "cell_type": "code",
   "execution_count": 1,
   "metadata": {},
   "outputs": [],
   "source": [
    "# Import the llama.cpp python bindings and load the model, this time we are\n",
    "# going to indicate to the model that we want to capture the probabilities\n",
    "# of tokens for analysis as well, we do this by setting logits_all=True.\n",
    "# I'll also include the llama types just for code cleanliness and completeness\n",
    "import os\n",
    "from llama_cpp import Llama\n",
    "from llama_cpp.llama_types import *\n",
    " \n",
    "model: Llama = Llama(\n",
    "    model_path=os.environ[\"LLAMA_13B\"], verbose=False, logits_all=True\n",
    ")"
   ]
  },
  {
   "cell_type": "code",
   "execution_count": 2,
   "metadata": {},
   "outputs": [
    {
     "name": "stdout",
     "output_type": "stream",
     "text": [
      "14th on the list of most dangerous cities in America.\n",
      "The city\n",
      "['1', '4', 'th', ' on', ' the', ' list', ' of', ' most', ' dangerous', ' cities', ' in', ' America', '.', '\\n', 'The', ' city']\n",
      "[-1.2581345, -1.9064457, -2.0102007, -1.4877319, -0.69384456, -0.30852577, -0.12820004, -1.8777747, -1.5640584, -0.2770181, -0.23983036, -1.0902431, -0.76887864, -1.1293881, -1.9391508, -2.3217533]\n",
      "[27, 28, 29, 31, 34, 38, 43, 46, 51, 61, 68, 71, 79, 80, 81, 84]\n"
     ]
    }
   ],
   "source": [
    "# When we send a prompt to the model we can pass in the logprobs parameter which\n",
    "# will determine how many alternative choices we will see. I'll just look at the\n",
    "# top two choices. And we'll set the temperature to 0, which means that we'll\n",
    "# have the model always choose from that top 3 the very best choice\n",
    "result: Completion = model.create_completion(\n",
    "    prompt=\"The capital of Michigan is \", logprobs=3, max_tokens=16, temperature=0\n",
    ")\n",
    "\n",
    "# Take out the response content from the Completion object\n",
    "item = result[\"choices\"][0]\n",
    "\n",
    "# Print out the response text\n",
    "print(item[\"text\"])\n",
    "\n",
    "# The individual token probabilities are in the CompletionLogprobs object\n",
    "details: CompletionLogprobs = item[\"logprobs\"]\n",
    "\n",
    "# Here we can look at the list of tokens, their probabilities, and their offset\n",
    "# in the prompt+response\n",
    "print(details[\"tokens\"])  # these will actually be encoded (text) copies of tokens!\n",
    "print(\n",
    "    details[\"token_logprobs\"]\n",
    ")  # the probability of the token in the set of candidates\n",
    "print(details[\"text_offset\"])  # the location in the prompt+response"
   ]
  },
  {
   "cell_type": "markdown",
   "metadata": {},
   "source": [
    "So, this is interesting, even if it's not something you're likely to do in production very often. It lets you see not\n",
    "only what the tokens were, but how likely they were to fit into the response. Underneath, the goal of the model is to\n",
    "choose the magnitude of the token which is closest to zero as often as possible, but to do so while respecting the\n",
    "temperature parameter. Now, that's a little bit of an oversimplification, actually the model considers another parameter\n",
    "called top_p as well. This parameter determines how many words are in the candidate set for us to consider. temperature\n",
    "and top_p work differently, but together, to determine which token is chosen. For both parameters a higher number gives\n",
    "more options, and thus less deterministic output.\n",
    "\n",
    "Let's dig in just a bit more.\n"
   ]
  },
  {
   "cell_type": "code",
   "execution_count": 3,
   "metadata": {},
   "outputs": [
    {
     "name": "stdout",
     "output_type": "stream",
     "text": [
      "{'1': -1.2581345, '2': -1.3801266, '3': -2.0985427}\n",
      "{'4': -1.9064457, '2': -2.1594117, '0': -2.2457373}\n",
      "{'th': -2.0102007, '0': -2.3570406, '4': -2.3871949}\n",
      "{' on': -1.4877319, ' in': -1.7202435, ' largest': -2.0042315}\n",
      "{' the': -0.69384456, ' a': -2.0116336, ' our': -2.0541122}\n",
      "{' list': -0.30852577, ' U': -3.4331338, ' For': -3.4778345}\n",
      "{' of': -0.12820004, '.': -3.4785008, ',': -3.5628467}\n",
      "{' the': -1.2324786, ' most': -1.8777747, ' cities': -2.7289329}\n",
      "{' dangerous': -1.5640584, ' popul': -1.8241092, ' expensive': -2.2319298}\n",
      "{' cities': -0.2770181, ' U': -2.9521394, ' places': -3.1585898}\n",
      "{' in': -0.23983036, ' for': -3.0415556, '.': -3.055794}\n",
      "{' the': -0.45761937, ' America': -1.0902431, ' Michigan': -4.70593}\n",
      "{'.': -0.76887864, ',': -1.3212144, '\\n': -2.5920274}\n",
      "{'\\n': -1.1293881, ' The': -2.3599255, ' It': -3.0682452}\n",
      "{'The': -1.9391508, 'Mich': -2.707284, 'L': -2.7858906}\n",
      "{' capital': -2.0821187, ' city': -2.3217533, ' F': -2.7388074}\n"
     ]
    }
   ],
   "source": [
    "# We can actually see for each token what the alternatives were and what their\n",
    "# logprob was. We can iterate through the set of tokens and, since I set logprobs=3,\n",
    "# we will see the top three options for each token\n",
    "for token_choice in details[\"top_logprobs\"]:\n",
    "    print(token_choice)"
   ]
  },
  {
   "cell_type": "markdown",
   "metadata": {},
   "source": [
    "## Temperature\n",
    "\n",
    "Now, there are several parameters we can use to constrain or guide what the language model might choose for the next\n",
    "token. Going into them in detail is outside of the scope of this short course, but I want to give you a bit of an\n",
    "intuitive understanding of how they work. The first one, which we've already talked a bit about, is the `temperature`,\n",
    "and we can use our newfound ability to find probabilities of tokens to see better how this is working.\n"
   ]
  },
  {
   "cell_type": "code",
   "execution_count": 4,
   "metadata": {},
   "outputs": [
    {
     "name": "stdout",
     "output_type": "stream",
     "text": [
      "['3', ' hours', ' ahead', ' of', ' the', ' West', ' Coast', '.', '\\n', 'Mich', 'igan', ' has', ' a', ' state', ' sales', ' tax']\n",
      "\n",
      "{'1': -1.2581345, '2': -1.3801266, '3': -2.0985427}\n",
      "{'0': -1.8212633, '1': -2.145999, '6': -2.610055, ' hours': -3.5433807}\n",
      "{' behind': -1.334129, ' ahead': -1.5415884, ' from': -2.0839648}\n",
      "{' of': -0.027777381, ' from': -5.2180066, '.': -5.362086}\n",
      "{' the': -1.5175159, ' New': -2.1536167, ' E': -2.7444541}\n",
      "{' west': -1.8879161, ' West': -1.9844785, ' Pacific': -2.1005177}\n",
      "{' Coast': -0.12493969, ' coast': -2.3753784, '.': -5.5313244}\n",
      "{'.': -0.98495686, ' and': -1.8065263, ',': -1.8895913}\n",
      "{'\\n': -0.89310086, ' The': -2.8303347, ' This': -3.1326065}\n",
      "{'Mich': -1.8725344, 'The': -1.9299914, 'What': -3.0647845}\n",
      "{'igan': -0.010465149, 'ig': -4.9097295, '.': -7.750693}\n",
      "{' is': -0.8410326, ' has': -2.4605517, \"'\": -2.6808}\n",
      "{' ': -1.6025658, ' a': -1.6114273, ' two': -2.20576}\n",
      "{' population': -1.8057511, ' total': -2.6735928, ' hum': -2.84349, ' state': -3.132768}\n",
      "{'wide': -1.5737301, ' income': -1.8934208, ' sales': -2.2306523}\n",
      "{' tax': -0.025946932, ' and': -4.096352, '/': -5.551521}\n"
     ]
    }
   ],
   "source": [
    "# As the temperature was set to 0 the very first token, the one which\n",
    "# minimized the absolute value of the logprob, was chosen. We can experiment\n",
    "# a bit with this -- let's turn up the heat and see what happens\n",
    "result: Completion = model.create_completion(\n",
    "    prompt=\"The capital of Michigan is \", logprobs=3, max_tokens=16, temperature=0.7\n",
    ")\n",
    "\n",
    "details: CompletionLogprobs = result[\"choices\"][0][\"logprobs\"]\n",
    "\n",
    "# Here we can look at the list of tokens, their probabilities, and their offset\n",
    "# in the prompt+response\n",
    "print(details[\"tokens\"])\n",
    "print()  # little whitespace to see better\n",
    "\n",
    "# iterate through results\n",
    "for token_choice in details[\"top_logprobs\"]:\n",
    "    print(token_choice)"
   ]
  },
  {
   "cell_type": "markdown",
   "metadata": {},
   "source": [
    "Ok! So here we can see that the sequence returned isn't made up of each of the lowest tokens in the candidate sets. In\n",
    "fact, depending on a little bit of randomness, you might even see that several of the candidate sets have more than the\n",
    "3 tokens in them -- that the high temperature resulted in the model choosing a token that wasn't in the top three\n",
    "options. This important to note too -- even though we set the logprobs to three, that's not the complete candidate set\n",
    "of tokens, but just the ones which are being returned to us programmatically.\n"
   ]
  },
  {
   "cell_type": "markdown",
   "metadata": {},
   "source": [
    "## `top_k`\n",
    "\n",
    "Another parameter we have in our toolbox is called `top_k`, and this more forcefully constraints the language model,\n",
    "telling it _only_ to choose from a fixed set of best possible matches. This parameter is an integer value, and if we set\n",
    "it to one, for instance, the model will have only one choice to choose from and the temperature won't matter. Let's take\n",
    "a look.\n"
   ]
  },
  {
   "cell_type": "code",
   "execution_count": 5,
   "metadata": {},
   "outputs": [
    {
     "name": "stdout",
     "output_type": "stream",
     "text": [
      "['1', '4', 'th', ' on', ' a', ' list', ' of', ' the', ' most', ' expensive', ' cities', ' in', ' America', '.', '\\n', 'The']\n",
      "\n",
      "{'1': -1.2581345, '2': -1.3801266, '3': -2.0985427}\n",
      "{'4': -1.9064457, '2': -2.1594117, '0': -2.2457373}\n",
      "{'th': -2.0102007, '0': -2.3570406, '4': -2.3871949}\n",
      "{' on': -1.4877319, ' in': -1.7202435, ' largest': -2.0042315}\n",
      "{' the': -0.69384456, ' a': -2.0116336, ' our': -2.0541122}\n",
      "{' list': -0.3490106, ' new': -1.8529664, ' ranking': -3.571783}\n",
      "{' of': -0.099543884, ' ranking': -3.8555443, ' that': -3.970506}\n",
      "{' the': -0.7367584, ' cities': -2.2269871, ' ': -2.646352}\n",
      "{' ': -1.639432, ' most': -1.6863766, ' best': -2.0501375}\n",
      "{' dangerous': -1.7353185, ' expensive': -2.375915, '-': -3.3465915}\n",
      "{' cities': -0.8235837, ' places': -1.6060649, ' U': -2.6087017}\n",
      "{' in': -0.6862069, ' to': -1.2923603, ' for': -1.673954}\n",
      "{' the': -0.2578273, ' America': -1.7043757, ' which': -3.5152411}\n",
      "{'.': -1.2277501, ' to': -1.592437, ',': -1.7642701}\n",
      "{'\\n': -0.6316865, ' The': -2.6807148, ' L': -3.1128724}\n",
      "{'The': -1.7190986, 'L': -2.11132, 'Acc': -2.6165528}\n"
     ]
    }
   ],
   "source": [
    "# Let's now constrain the set of choices the model can consider by setting top_k\n",
    "# to two. In this world the model only has a choice between the two best fitting\n",
    "# tokens for a position in the output sequence.\n",
    "result: Completion = model.create_completion(\n",
    "    prompt=\"The capital of Michigan is \",\n",
    "    logprobs=3,\n",
    "    max_tokens=16,\n",
    "    temperature=1.0,\n",
    "    top_k=2,\n",
    ")\n",
    "\n",
    "details: CompletionLogprobs = result[\"choices\"][0][\"logprobs\"]\n",
    "\n",
    "# Here we can look at the list of tokens, their probabilities, and their offset\n",
    "# in the prompt+response\n",
    "print(details[\"tokens\"])\n",
    "print()  # little whitespace to see better\n",
    "\n",
    "# iterate through results\n",
    "for token_choice in details[\"top_logprobs\"]:\n",
    "    print(token_choice)"
   ]
  },
  {
   "cell_type": "markdown",
   "metadata": {},
   "source": [
    "You see here that because logprobs is set to three I'm still being shown potential tokens, but they are pruned from the\n",
    "candidate set before the model samples from the list as the `top_k` value is only two. By default the `top_k` value is\n",
    "40, and you can see how it works with the temperature to determine which tokens are placed in the output sequence.\n"
   ]
  },
  {
   "cell_type": "markdown",
   "metadata": {},
   "source": [
    "## `top_p`\n",
    "\n",
    "We also have another variable we can use for tuning, called `top_p`. This variable is a bit more complex, it constrains\n",
    "the candidate set of tokens based upon their cummulative probability distribution. It's a floating point number from 0\n",
    "through 1, where 1 would be all possible tokens from our vocabulary. You can think of this as follows:\n",
    "\n",
    "1. Each candidate token has a probability of being chosen and put in the output sequence.\n",
    "2. We want to only choose from a set of really good options, so we take a number of high probability items and we're\n",
    "   going to put them in the candidate set.\n",
    "3. We don't want to constrain the set to only ten or fifteen items. Instead, once the number of items in that set have a\n",
    "   combined probability equal to `top_p`, then we will stop adding items to the set.\n",
    "\n",
    "So, it's a lot like `top_k` as the goal is to constrain the size of the candidate set, but for each position in the\n",
    "output sequence the number of items we choose from will vary depending on how high of a probability the items have.\n",
    "Let's take a look.\n"
   ]
  },
  {
   "cell_type": "code",
   "execution_count": 6,
   "metadata": {},
   "outputs": [
    {
     "name": "stdout",
     "output_type": "stream",
     "text": [
      "['1', '4', 'th', ' on', ' the', ' list', ' of', ' most', ' dangerous', ' cities', ' in', ' America', '.', '\\n', 'The', ' city']\n",
      "\n",
      "{'1': -1.2581345, '2': -1.3801266, '3': -2.0985427}\n",
      "{'4': -1.9064457, '2': -2.1594117, '0': -2.2457373}\n",
      "{'th': -2.0102007, '0': -2.3570406, '4': -2.3871949}\n",
      "{' on': -1.4877319, ' in': -1.7202435, ' largest': -2.0042315}\n",
      "{' the': -0.69384456, ' a': -2.0116336, ' our': -2.0541122}\n",
      "{' list': -0.30852577, ' U': -3.4331338, ' For': -3.4778345}\n",
      "{' of': -0.12820004, '.': -3.4785008, ',': -3.5628467}\n",
      "{' the': -1.2324786, ' most': -1.8777747, ' cities': -2.7289329}\n",
      "{' dangerous': -1.5640584, ' popul': -1.8241092, ' expensive': -2.2319298}\n",
      "{' cities': -0.2770181, ' U': -2.9521394, ' places': -3.1585898}\n",
      "{' in': -0.23983036, ' for': -3.0415556, '.': -3.055794}\n",
      "{' the': -0.45761937, ' America': -1.0902431, ' Michigan': -4.70593}\n",
      "{'.': -0.76887864, ',': -1.3212144, '\\n': -2.5920274}\n",
      "{'\\n': -1.1293881, ' The': -2.3599255, ' It': -3.0682452}\n",
      "{'The': -1.9391508, 'Mich': -2.707284, 'L': -2.7858906}\n",
      "{' capital': -2.0821187, ' city': -2.3217533, ' F': -2.7388074}\n"
     ]
    }
   ],
   "source": [
    "# Let's now constrain the set of choices the model can consider by setting top_p\n",
    "# to a very low number. By default it's 0.95, but if we constrain it to 0.01\n",
    "# we should be able to get a small set of high quality options.\n",
    "result: Completion = model.create_completion(\n",
    "    prompt=\"The capital of Michigan is \",\n",
    "    logprobs=3,\n",
    "    max_tokens=16,\n",
    "    temperature=0.7,\n",
    "    top_p=0.01,\n",
    ")\n",
    "\n",
    "details: CompletionLogprobs = result[\"choices\"][0][\"logprobs\"]\n",
    "\n",
    "# Here we can look at the list of tokens, their probabilities, and their offset\n",
    "# in the prompt+response\n",
    "print(details[\"tokens\"])\n",
    "print()  # little whitespace to see better\n",
    "\n",
    "# iterate through results\n",
    "for token_choice in details[\"top_logprobs\"]:\n",
    "    print(token_choice)"
   ]
  },
  {
   "cell_type": "markdown",
   "metadata": {},
   "source": [
    "The result of such a small `top_p` is that the candidate set of choices is very small, though not all of the choices are\n",
    "good ones. Since this is a smaller set of choices, and the probability of any given choice in the set can vary wildly,\n",
    "depending on the pretraining of the model. However, the tokens in the candidate set are reweighted as they are the only\n",
    "options, and the temperature then determines how likely an given candidate will be chosen.\n",
    "\n",
    "Now, all of this is a bit of an oversimplification, and there are several more parameters some of which you can tune,\n",
    "such as the `typical_p`, `min_p`, and so forth. If you're interested more in how these generative models choose a given\n",
    "response, from a statistics and deep learning lens, I'd encourage you to check out paper by Holtzman et al. that I've\n",
    "put in the optional readings for this week, or read more on topics such as nucleus sampling, top_k sampling, and beam\n",
    "search.\n"
   ]
  }
 ],
 "metadata": {
  "kernelspec": {
   "display_name": "Python 3",
   "language": "python",
   "name": "python3"
  },
  "language_info": {
   "codemirror_mode": {
    "name": "ipython",
    "version": 3
   },
   "file_extension": ".py",
   "mimetype": "text/x-python",
   "name": "python",
   "nbconvert_exporter": "python",
   "pygments_lexer": "ipython3",
   "version": "3.11.9"
  }
 },
 "nbformat": 4,
 "nbformat_minor": 2
}
