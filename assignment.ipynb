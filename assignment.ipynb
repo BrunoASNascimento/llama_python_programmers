{
 "cells": [
  {
   "cell_type": "markdown",
   "metadata": {
    "deletable": false,
    "editable": false,
    "nbgrader": {
     "cell_type": "markdown",
     "checksum": "1cf0af6763462f767816a41ce374c7bd",
     "grade": false,
     "grade_id": "cell-1050fbcab357f17c",
     "locked": true,
     "schema_version": 3,
     "solution": false,
     "task": false
    },
    "tags": []
   },
   "source": [
    "# Assignment\n",
    "\n",
    "I often need \"fake data\" to show people how to do data manipulation tasks with regular expressions or pandas. The\n",
    "problem is that sometimes the data I generate on the web is too messy, and I get bogged down showing students how to\n",
    "clean all of the data when some of it isn't representative of what I want. In this assignment you get a chance to help\n",
    "me generate realistic fake data, all with llama 2!\n",
    "\n",
    "For each question I will describe the data in natural language and you must write a function which queries llama 2 to\n",
    "generate data in that format and adhere to the description I've written.\n"
   ]
  },
  {
   "cell_type": "code",
   "execution_count": 1,
   "metadata": {
    "deletable": false,
    "editable": false,
    "nbgrader": {
     "cell_type": "code",
     "checksum": "4ee8dbe8c11c87a0158a9f25a2bc1602",
     "grade": false,
     "grade_id": "cell-09e54043f668ba81",
     "locked": true,
     "schema_version": 3,
     "solution": false,
     "task": false
    },
    "tags": []
   },
   "outputs": [],
   "source": [
    "import os\n",
    "import re\n",
    "from llama_cpp import Llama\n",
    "from llama_cpp.llama_types import *\n",
    "from llama_cpp.llama_grammar import *"
   ]
  },
  {
   "cell_type": "markdown",
   "metadata": {
    "deletable": false,
    "editable": false,
    "nbgrader": {
     "cell_type": "markdown",
     "checksum": "4f3d989aff08c079ac2ecfb197c3b1d9",
     "grade": false,
     "grade_id": "cell-162c7e56ef189b47",
     "locked": true,
     "schema_version": 3,
     "solution": false,
     "task": false
    },
    "tags": []
   },
   "source": [
    "## Question 1\n",
    "\n",
    "Generate for me a list of ten fictitious names, where the first name is a single word, and the last (family) name may be\n",
    "(but doesn't have to be!) up to two words separated by a hyphen. Don't include titles, honorifics, or middle names. The\n",
    "autograder will expect that you return a list[str] where each value in the list is a full name.\n"
   ]
  },
  {
   "cell_type": "code",
   "execution_count": 25,
   "metadata": {
    "deletable": false,
    "nbgrader": {
     "cell_type": "code",
     "checksum": "19701021e39a293a2a0ed2031c03bba3",
     "grade": false,
     "grade_id": "q1_answer",
     "locked": false,
     "schema_version": 3,
     "solution": true,
     "task": false
    },
    "tags": []
   },
   "outputs": [],
   "source": [
    "def generate_names() -> list[str]:\n",
    "    model: Llama = Llama(model_path=os.environ[\"LLAMA_13B\"], verbose=False, n_ctx=2048)\n",
    "    results: list[str] = []\n",
    "    # Prompt to make the names\n",
    "    prompt = \"Only imagine a name and last name like:\"\n",
    "    # Define the regex pattern to match the first two words\n",
    "    pattern = r'(\\w+\\s\\w+)'\n",
    "    \n",
    "    while len(results)<10:\n",
    "        string_result =\"\"\n",
    "        for response in model.create_completion(prompt, max_tokens=16, stream=True):\n",
    "            result = response[\"choices\"][0]\n",
    "            string_result+=result[\"text\"]\n",
    "            # print(result[\"text\"], end=\"\")\n",
    "\n",
    "        # Use re.search to find the first match\n",
    "        match = re.search(pattern, string_result.strip())  \n",
    "\n",
    "        if match:\n",
    "            output = match.group(1)\n",
    "            results.append(output) \n",
    "    \n",
    "    \n",
    "    \n",
    "    return results"
   ]
  },
  {
   "cell_type": "code",
   "execution_count": 26,
   "metadata": {
    "deletable": false,
    "editable": false,
    "nbgrader": {
     "cell_type": "code",
     "checksum": "04fdac4018ce3cbcc777d28de60c0237",
     "grade": true,
     "grade_id": "q1_tests",
     "locked": true,
     "points": 1,
     "schema_version": 3,
     "solution": false,
     "task": false
    },
    "tags": []
   },
   "outputs": [],
   "source": [
    "# Invoke student code\n",
    "from contextlib import redirect_stderr\n",
    "import tempfile\n",
    "\n",
    "with redirect_stderr( tempfile.TemporaryFile('wt') ) as error_catcher:\n",
    "    results = generate_names()\n",
    "\n",
    "# Verify the length\n",
    "assert (\n",
    "    len(results) == 10\n",
    "), f\"You did not return ten and only ten results, instead we got {len(results)}.\"\n"
   ]
  },
  {
   "cell_type": "markdown",
   "metadata": {
    "deletable": false,
    "editable": false,
    "nbgrader": {
     "cell_type": "markdown",
     "checksum": "5092b408b504e3480b913af114f5fdac",
     "grade": false,
     "grade_id": "cell-4f1b08b3229159b4",
     "locked": true,
     "schema_version": 3,
     "solution": false,
     "task": false
    },
    "tags": []
   },
   "source": [
    "## Question 2\n",
    "\n",
    "Generate for me a list of 5 things to do in your hometown (or mine if you prefer, Ann Arbor Michigan!). The key is that\n",
    "these should all (a) start with a number and (b) be no more than three sentences long. So the following would be a good\n",
    "item:\n",
    "\n",
    "- 1\\. Go to the Henry Ford Museum. The Henry Ford Museum has all sorts of wonderful exhibits for all ages. One\n",
    "  particular highlight includes giants trains!\n",
    "\n",
    "While the following would **not be good items** (the first item does not start a numbered list, the second item is not a\n",
    "sentence as it doesn't end in punctuation, and the third item just goes on and on and on):\n",
    "\n",
    "- A\\. Go to the University of Michigan. The University of Michigan is a school with more than 50,000 students in Ann\n",
    "  Arbor, MI. The University of Michigan is a public School.\n",
    "- 2\\. Visit the Detroit Eastern Market\n",
    "- 3\\. Visit Sleeping Bear Dunes. The dunes are located along the northwest coast of the Lower Peninsula of Michigan in\n",
    "  Leelanau and Benzie counties near Traverse City. It covers a 35-mile-long stretch of Lake Michigan's eastern\n",
    "  coastline, as well as North and South Manitou islands. This national park is known for its massive dunes, some of\n",
    "  which are over 400 feet high. The area gets its name from the Native American legend of the Sleeping Bear. According\n",
    "  to the story, a mother bear and her two cubs were trying to cross Lake Michigan from Wisconsin to escape a forest\n",
    "  fire.\n"
   ]
  },
  {
   "cell_type": "code",
   "execution_count": 29,
   "metadata": {
    "deletable": false,
    "nbgrader": {
     "cell_type": "code",
     "checksum": "4b1a35b9aa6649f1932abeb7de9818ea",
     "grade": false,
     "grade_id": "q2_answer",
     "locked": false,
     "schema_version": 3,
     "solution": true,
     "task": false
    },
    "tags": []
   },
   "outputs": [
    {
     "data": {
      "text/plain": [
       "[\"\\nBig Ben: it's the most known thing of London.\\nTower Bridge: is one of London's most famous landmarks\\nHyde Park and Regent's Park: two parks that are popular with tourists.\\nLondon Eye: a large Ferris wheel on the south\",\n",
       " '\\nThe Tower of London is one of the most famous landmarks in England and arguably the world. The tower itself stands on the north bank of the River Thames in central London. The Tower of London has seen service as royal palace, prison, armoury, treasury, menagerie and',\n",
       " '\\nWestminster Palace: it was founded as a priory of Benedictine monks during the reign of Edward the Confessor. In 1045 St Edward was buried there.\\nTower Bridge: Tower Bridge is one of five London bridges now owned and maintained by the Bridge House Estates',\n",
       " \"\\n1- The Houses of Parliment\\n2 - Trafalgar Square\\n3 - The Tower of London\\n4- Big Ben (I don't know the name of the clock)\\n5- St.Paul Cathedral\\n6- Hyde Park\\n7- Buckingham Palace\\n8\",\n",
       " \"\\n*Tower of London *Buckingham Palace *Big Ben *Hyde Park *West End *Covent Garden *The British Museum *St. Paul's Cathedral *Houses of Parliament *Victoria and Albert Museum *Marble Arch *Trafalgar Square\\nPosted by\"]"
      ]
     },
     "execution_count": 29,
     "metadata": {},
     "output_type": "execute_result"
    }
   ],
   "source": [
    "def generate_trip_recommendations() -> list[str]:\n",
    "    model: Llama = Llama(model_path=os.environ[\"LLAMA_13B\"], verbose=False, n_ctx=2048)\n",
    "    results: list[str] = []\n",
    "    # Prompt to make the names\n",
    "    prompt = \"I'm a turist in London, than I must visit:\"\n",
    "   \n",
    "    \n",
    "    while len(results)<5:\n",
    "        string_result =\"\"\n",
    "        for response in model.create_completion(prompt, max_tokens=64, stream=True):\n",
    "            result = response[\"choices\"][0]\n",
    "            string_result+=result[\"text\"]\n",
    "            # print(result[\"text\"], end=\"\")\n",
    "\n",
    "        results.append(string_result) \n",
    "    \n",
    "    \n",
    "    \n",
    "    return results\n"
   ]
  },
  {
   "cell_type": "code",
   "execution_count": 30,
   "metadata": {
    "deletable": false,
    "editable": false,
    "nbgrader": {
     "cell_type": "code",
     "checksum": "f7f465c503a587ba812eb7973226059d",
     "grade": true,
     "grade_id": "q2_tests",
     "locked": true,
     "points": 1,
     "schema_version": 3,
     "solution": false,
     "task": false
    },
    "tags": []
   },
   "outputs": [],
   "source": [
    "# Invoke student code\n",
    "from contextlib import redirect_stderr\n",
    "import re\n",
    "import tempfile\n",
    "\n",
    "with redirect_stderr( tempfile.TemporaryFile('wt') ) as error_catcher:\n",
    "    results=generate_trip_recommendations()\n",
    "\n",
    "# Verify length\n",
    "assert (\n",
    "    len(results) == 5\n",
    "), f\"You did not return five and only five results, instead we got {len(results)}.\"\n"
   ]
  },
  {
   "cell_type": "markdown",
   "metadata": {
    "deletable": false,
    "editable": false,
    "nbgrader": {
     "cell_type": "markdown",
     "checksum": "974df26680e2dcf0c96193bfa351ab1f",
     "grade": false,
     "grade_id": "cell-9346c18ecbf2c211",
     "locked": true,
     "schema_version": 3,
     "solution": false,
     "task": false
    },
    "tags": []
   },
   "source": [
    "## Question 3\n",
    "\n",
    "Generate for me US-based addresses which have a person's name which usually appears on the first line, an optional\n",
    "company name which often goes on the second line, a street address which has a number followed by some text description,\n",
    "a city and state where the state is a two letter identifier and comes after the city name, and zip code which is a five\n",
    "digit number (but as a string, since it could start with 0) followed by an optional hyphen and four more digits.\n",
    "\n",
    "To make it easy for you to conform to this set of requirements, I created a simple class from the following example --\n",
    "my mailing address!\n",
    "\n",
    "> Dr. Christopher Brooks\n",
    ">\n",
    "> > School of Information, University of Michigan\n",
    "> >\n",
    "> > 105 S. State St.\n",
    "> >\n",
    "> > Ann Arbor, MI\n",
    "> >\n",
    "> > 48109-1285\n",
    "\n",
    "Your function should return exactly 5 of these entries!\n",
    "\n",
    "And, if you've gotten this far in the course, why not send me a postcard and introduce yourself? Everyone loves getting\n",
    "mail!\n",
    "\n",
    "(Don't forget to add **United States** if sending mail internationally, even though field is missing from the assignment\n",
    "`MailingAddress` class.)\n"
   ]
  },
  {
   "cell_type": "code",
   "execution_count": 12,
   "metadata": {
    "deletable": false,
    "nbgrader": {
     "cell_type": "code",
     "checksum": "eb51a0f4419a07909c9d0739066872ed",
     "grade": false,
     "grade_id": "q3_answer",
     "locked": false,
     "schema_version": 3,
     "solution": true,
     "task": false
    },
    "tags": []
   },
   "outputs": [
    {
     "name": "stderr",
     "output_type": "stream",
     "text": [
      "from_string grammar:\n",
      "root ::= root_2 \n",
      "address ::= name businessname streetnumber streettext city state zipcodeshort zipcodelong [<U+000A>] \n",
      "root_2 ::= address root_2 | address \n",
      "name ::= [n] [a] [m] [e] [:] [ ] name_11 [<U+000A>] \n",
      "businessname ::= [b] [u] [s] [i] [n] [e] [s] [s] [_] [n] [a] [m] [e] [:] [ ] businessname_12 [<U+000A>] \n",
      "streetnumber ::= [s] [t] [r] [e] [e] [t] [_] [n] [u] [m] [b] [e] [r] [:] [ ] streetnumber_13 [<U+000A>] \n",
      "streettext ::= [s] [t] [r] [e] [e] [t] [_] [t] [e] [x] [t] [:] [ ] streettext_14 [<U+000A>] \n",
      "city ::= [c] [i] [t] [y] [:] [ ] city_15 [<U+000A>] \n",
      "state ::= [s] [t] [a] [t] [e] [:] [ ] state_16 [<U+000A>] \n",
      "zipcodeshort ::= [z] [i] [p] [_] [c] [o] [d] [e] [_] [s] [h] [o] [r] [t] [:] [ ] zipcodeshort_17 [<U+000A>] \n",
      "zipcodelong ::= [z] [i] [p] [_] [c] [o] [d] [e] [_] [l] [o] [n] [g] [:] [ ] zipcodelong_18 [<U+000A>] \n",
      "name_11 ::= [A-Za-z ] name_11 | \n",
      "businessname_12 ::= [A-Za-z ,] businessname_12 | \n",
      "streetnumber_13 ::= [0-9] streetnumber_13 | \n",
      "streettext_14 ::= [A-Za-z .] streettext_14 | \n",
      "city_15 ::= [A-Za-z ] city_15 | \n",
      "state_16 ::= [A-Za-z ] state_16 | \n",
      "zipcodeshort_17 ::= [0-9] zipcodeshort_17 | \n",
      "zipcodelong_18 ::= [0-9] zipcodelong_18 | \n",
      "\n"
     ]
    },
    {
     "name": "stdout",
     "output_type": "stream",
     "text": [
      "name: Dr John Brooks\n",
      "business_name: School of Information, University of Michigan\n",
      "street_number: 203\n",
      "street_text: State St.\n",
      "city: Ann Arbor\n",
      "state: MI\n",
      "zip_code_short: 48109\n",
      "zip_code_long: 48109\n",
      "\n",
      "name: Dr Robert Brooks\n",
      "business_name: School of Information, University of Michigan\n",
      "street_number: 320\n",
      "street_text: State St.\n",
      "city: Ann Arbor\n",
      "state: MI\n",
      "zip_code_short"
     ]
    },
    {
     "data": {
      "text/plain": [
       "[MailingAddress(name='Dr John Brooks', business_name='School of Information, University of Michigan', street_number=203, street_text='State St.', city='Ann Arbor', state='MI', zip_code_short='48109', zip_code_long='48109')]"
      ]
     },
     "execution_count": 12,
     "metadata": {},
     "output_type": "execute_result"
    }
   ],
   "source": [
    "from dataclasses import dataclass\n",
    "\n",
    "\n",
    "@dataclass\n",
    "class MailingAddress:\n",
    "    name: str  # Full name, e.g. Dr. Christopher Brooks\n",
    "    business_name: (str | None)  # Optional business name, e.g. School of Information, University of Michigan\n",
    "    street_number: int  # Numeric address value, e.g. 105\n",
    "    street_text: str  # Street information other than numeric address, e.g. S. State St.\n",
    "    city: str  # City name, e.g. Ann Arbor\n",
    "    state: str  # State name, only two letters, e.g. MI for Michigan\n",
    "    zip_code_short: str  # The first five digits of the zip code, e.g. 48109, as a string value, since it could start with 0\n",
    "    zip_code_long: (str | None  )  # The extended zip code (optional) which is the full zip code, e.g. 48109-1285\n",
    "\n",
    "\n",
    "def generate_addresses() -> list[MailingAddress]:\n",
    "    model: Llama = Llama(model_path=os.environ[\"LLAMA_13B\"], verbose=False, n_ctx=2048)\n",
    "    results: list[MailingAddress] = []\n",
    "\n",
    "    # Our prompt will just be a list of Mushroom questions in Aiken format\n",
    "    prompt = '''\n",
    "    name: Dr. Christopher Brooks\n",
    "    business_name: School of Information, University of Michigan\n",
    "    street_number: 105\n",
    "    street_text: State St.\n",
    "    city: Ann Arbor\n",
    "    state: MI\n",
    "    zip_code_short: 48109\n",
    "    zip_code_long: 48109-1285\n",
    "\n",
    "    name: Dr. Fred Brooks\n",
    "    business_name: University of London\n",
    "    street_number: 12\n",
    "    street_text: Liverpool St.\n",
    "    city: London\n",
    "    state: UK\n",
    "    zip_code_short: 56456\n",
    "    zip_code_long: 56456-1285\n",
    "    '''\n",
    "\n",
    "    grammar = r'''\n",
    "        root ::= address+\n",
    "        address ::= name businessname streetnumber streettext city state zipcodeshort zipcodelong \"\\n\"\n",
    "        name ::= \"name: \" [A-Za-z ]* \"\\n\"\n",
    "        businessname ::= \"business_name: \" [A-Za-z ,]* \"\\n\"\n",
    "        streetnumber ::= \"street_number: \" [0-9]* \"\\n\"\n",
    "        streettext ::= \"street_text: \" [A-Za-z .]* \"\\n\"\n",
    "        city ::= \"city: \" [A-Za-z ]* \"\\n\"\n",
    "        state ::= \"state: \" [A-Za-z ]* \"\\n\"\n",
    "        zipcodeshort ::= \"zip_code_short: \" [0-9]* \"\\n\"\n",
    "        zipcodelong ::= \"zip_code_long: \" [0-9]* \"\\n\"\n",
    "    '''\n",
    "    while len(results)<5:\n",
    "        result = model.create_completion(prompt,\n",
    "            grammar=LlamaGrammar.from_string(grammar=grammar), \n",
    "            stream=True, \n",
    "            max_tokens=128)\n",
    "        string_result =\"\"\n",
    "        for item in result:\n",
    "            string_result+=item['choices'][0]['text']\n",
    "        \n",
    "        data = (string_result.split('\\n')[:8])\n",
    "        address = MailingAddress(\n",
    "            name= data[0].strip().split(':')[1].strip(),\n",
    "            business_name= data[1].strip().split(':')[1].strip(),\n",
    "            street_number= int(data[2].strip().split(':')[1].strip()),\n",
    "            street_text= data[3].strip().split(':')[1].strip(),\n",
    "            city= data[4].strip().split(':')[1].strip(),\n",
    "            state= data[5].strip().split(':')[1].strip(),\n",
    "            zip_code_short= data[6].strip().split(':')[1].strip(),\n",
    "            zip_code_long= data[7].strip().split(':')[1].strip()\n",
    "        )\n",
    "        results.append(address)\n",
    "\n",
    "    return results\n",
    "\n",
    "generate_addresses()"
   ]
  },
  {
   "cell_type": "code",
   "execution_count": null,
   "metadata": {
    "deletable": false,
    "editable": false,
    "nbgrader": {
     "cell_type": "code",
     "checksum": "13601272aa80123aa193dd273afaf8a1",
     "grade": true,
     "grade_id": "q3_tests",
     "locked": true,
     "points": 1,
     "schema_version": 3,
     "solution": false,
     "task": false
    },
    "tags": []
   },
   "outputs": [],
   "source": [
    "# Invoke student code\n",
    "from contextlib import redirect_stderr\n",
    "import tempfile\n",
    "\n",
    "with redirect_stderr( tempfile.TemporaryFile('wt') ) as error_catcher:\n",
    "    results=generate_addresses()\n",
    "\n",
    "# Verify length\n",
    "assert (\n",
    "    len(results) == 5\n",
    "), f\"You did not return five and only five results, instead we got {len(results)}.\"\n"
   ]
  }
 ],
 "metadata": {
  "kernelspec": {
   "display_name": "Python 3 (ipykernel)",
   "language": "python",
   "name": "python3"
  },
  "language_info": {
   "codemirror_mode": {
    "name": "ipython",
    "version": 3
   },
   "file_extension": ".py",
   "mimetype": "text/x-python",
   "name": "python",
   "nbconvert_exporter": "python",
   "pygments_lexer": "ipython3",
   "version": "3.10.12"
  }
 },
 "nbformat": 4,
 "nbformat_minor": 4
}
