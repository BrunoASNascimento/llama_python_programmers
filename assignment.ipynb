{
 "cells": [
  {
   "cell_type": "markdown",
   "metadata": {
    "deletable": false,
    "editable": false,
    "nbgrader": {
     "cell_type": "markdown",
     "checksum": "1cf0af6763462f767816a41ce374c7bd",
     "grade": false,
     "grade_id": "cell-1050fbcab357f17c",
     "locked": true,
     "schema_version": 3,
     "solution": false,
     "task": false
    },
    "tags": []
   },
   "source": [
    "# Assignment\n",
    "\n",
    "I often need \"fake data\" to show people how to do data manipulation tasks with regular expressions or pandas. The\n",
    "problem is that sometimes the data I generate on the web is too messy, and I get bogged down showing students how to\n",
    "clean all of the data when some of it isn't representative of what I want. In this assignment you get a chance to help\n",
    "me generate realistic fake data, all with llama 2!\n",
    "\n",
    "For each question I will describe the data in natural language and you must write a function which queries llama 2 to\n",
    "generate data in that format and adhere to the description I've written.\n"
   ]
  },
  {
   "cell_type": "code",
   "execution_count": 8,
   "metadata": {
    "deletable": false,
    "editable": false,
    "nbgrader": {
     "cell_type": "code",
     "checksum": "4ee8dbe8c11c87a0158a9f25a2bc1602",
     "grade": false,
     "grade_id": "cell-09e54043f668ba81",
     "locked": true,
     "schema_version": 3,
     "solution": false,
     "task": false
    },
    "tags": []
   },
   "outputs": [
    {
     "data": {
      "text/plain": [
       "True"
      ]
     },
     "execution_count": 8,
     "metadata": {},
     "output_type": "execute_result"
    }
   ],
   "source": [
    "import os\n",
    "import re\n",
    "from llama_cpp import Llama\n",
    "from llama_cpp.llama_types import *\n",
    "from llama_cpp.llama_grammar import *\n",
    "\n",
    "from dotenv import load_dotenv, find_dotenv\n",
    "\n",
    "load_dotenv(find_dotenv())"
   ]
  },
  {
   "cell_type": "markdown",
   "metadata": {
    "deletable": false,
    "editable": false,
    "nbgrader": {
     "cell_type": "markdown",
     "checksum": "4f3d989aff08c079ac2ecfb197c3b1d9",
     "grade": false,
     "grade_id": "cell-162c7e56ef189b47",
     "locked": true,
     "schema_version": 3,
     "solution": false,
     "task": false
    },
    "tags": []
   },
   "source": [
    "## Question 1\n",
    "\n",
    "Generate for me a list of ten fictitious names, where the first name is a single word, and the last (family) name may be\n",
    "(but doesn't have to be!) up to two words separated by a hyphen. Don't include titles, honorifics, or middle names. The\n",
    "autograder will expect that you return a list[str] where each value in the list is a full name.\n"
   ]
  },
  {
   "cell_type": "code",
   "execution_count": 14,
   "metadata": {
    "deletable": false,
    "nbgrader": {
     "cell_type": "code",
     "checksum": "19701021e39a293a2a0ed2031c03bba3",
     "grade": false,
     "grade_id": "q1_answer",
     "locked": false,
     "schema_version": 3,
     "solution": true,
     "task": false
    },
    "tags": []
   },
   "outputs": [
    {
     "name": "stderr",
     "output_type": "stream",
     "text": [
      "from_string grammar:\n",
      "root ::= root_1 \n",
      "root_1 ::= [A-Za-z] root_1 | \n",
      "\n"
     ]
    },
    {
     "data": {
      "text/plain": [
       "[]"
      ]
     },
     "execution_count": 14,
     "metadata": {},
     "output_type": "execute_result"
    }
   ],
   "source": [
    "def generate_names() -> list[str]:\n",
    "    # model: Llama = Llama(model_path=os.environ[\"LLAMA_13B\"], verbose=False, n_ctx=2048)\n",
    "    model: Llama = Llama(\n",
    "        model_path='models/llama-2-13b.Q4_K_M.gguf',\n",
    "        verbose=False, \n",
    "        n_ctx=2048,\n",
    "        n_gpu_layers=60, \n",
    "        n_threads=16\n",
    "        )\n",
    "\n",
    "\n",
    "    results: list[str] = []\n",
    "\n",
    "    prompt = \"Imagine a name and last name like:\"\n",
    "    grammar= r'''\n",
    "        root ::= [A-Za-z]*\n",
    "        '''\n",
    "\n",
    "    result = model.create_completion(prompt,\n",
    "        grammar=LlamaGrammar.from_string(grammar=grammar), \n",
    "        stream=True, \n",
    "        max_tokens=16)\n",
    "    for item in result:\n",
    "        print(item['choices'][0]['text'], end=\"\")\n",
    "    \n",
    "    return results\n",
    "generate_names()"
   ]
  },
  {
   "cell_type": "code",
   "execution_count": 3,
   "metadata": {
    "deletable": false,
    "editable": false,
    "nbgrader": {
     "cell_type": "code",
     "checksum": "04fdac4018ce3cbcc777d28de60c0237",
     "grade": true,
     "grade_id": "q1_tests",
     "locked": true,
     "points": 1,
     "schema_version": 3,
     "solution": false,
     "task": false
    },
    "tags": []
   },
   "outputs": [
    {
     "ename": "NotImplementedError",
     "evalue": "",
     "output_type": "error",
     "traceback": [
      "\u001b[0;31m---------------------------------------------------------------------------\u001b[0m",
      "\u001b[0;31mNotImplementedError\u001b[0m                       Traceback (most recent call last)",
      "\u001b[1;32m/home/coder/project/labs/assignment.ipynb Cell 5\u001b[0m line \u001b[0;36m6\n\u001b[1;32m      <a href='vscode-notebook-cell://mbdvnkvqeign.labs.coursera.org/home/coder/project/labs/assignment.ipynb#W4sdnNjb2RlLXJlbW90ZQ%3D%3D?line=2'>3</a>\u001b[0m \u001b[39mimport\u001b[39;00m \u001b[39mtempfile\u001b[39;00m\n\u001b[1;32m      <a href='vscode-notebook-cell://mbdvnkvqeign.labs.coursera.org/home/coder/project/labs/assignment.ipynb#W4sdnNjb2RlLXJlbW90ZQ%3D%3D?line=4'>5</a>\u001b[0m \u001b[39mwith\u001b[39;00m redirect_stderr( tempfile\u001b[39m.\u001b[39mTemporaryFile(\u001b[39m'\u001b[39m\u001b[39mwt\u001b[39m\u001b[39m'\u001b[39m) ) \u001b[39mas\u001b[39;00m error_catcher:\n\u001b[0;32m----> <a href='vscode-notebook-cell://mbdvnkvqeign.labs.coursera.org/home/coder/project/labs/assignment.ipynb#W4sdnNjb2RlLXJlbW90ZQ%3D%3D?line=5'>6</a>\u001b[0m     results \u001b[39m=\u001b[39m generate_names()\n\u001b[1;32m      <a href='vscode-notebook-cell://mbdvnkvqeign.labs.coursera.org/home/coder/project/labs/assignment.ipynb#W4sdnNjb2RlLXJlbW90ZQ%3D%3D?line=7'>8</a>\u001b[0m \u001b[39m# Verify the length\u001b[39;00m\n\u001b[1;32m      <a href='vscode-notebook-cell://mbdvnkvqeign.labs.coursera.org/home/coder/project/labs/assignment.ipynb#W4sdnNjb2RlLXJlbW90ZQ%3D%3D?line=8'>9</a>\u001b[0m \u001b[39massert\u001b[39;00m (\n\u001b[1;32m     <a href='vscode-notebook-cell://mbdvnkvqeign.labs.coursera.org/home/coder/project/labs/assignment.ipynb#W4sdnNjb2RlLXJlbW90ZQ%3D%3D?line=9'>10</a>\u001b[0m     \u001b[39mlen\u001b[39m(results) \u001b[39m==\u001b[39m \u001b[39m10\u001b[39m\n\u001b[1;32m     <a href='vscode-notebook-cell://mbdvnkvqeign.labs.coursera.org/home/coder/project/labs/assignment.ipynb#W4sdnNjb2RlLXJlbW90ZQ%3D%3D?line=10'>11</a>\u001b[0m ), \u001b[39mf\u001b[39m\u001b[39m\"\u001b[39m\u001b[39mYou did not return ten and only ten results, instead we got \u001b[39m\u001b[39m{\u001b[39;00m\u001b[39mlen\u001b[39m(results)\u001b[39m}\u001b[39;00m\u001b[39m.\u001b[39m\u001b[39m\"\u001b[39m\n",
      "\u001b[1;32m/home/coder/project/labs/assignment.ipynb Cell 5\u001b[0m line \u001b[0;36m5\n\u001b[1;32m      <a href='vscode-notebook-cell://mbdvnkvqeign.labs.coursera.org/home/coder/project/labs/assignment.ipynb#W4sdnNjb2RlLXJlbW90ZQ%3D%3D?line=1'>2</a>\u001b[0m results: \u001b[39mlist\u001b[39m[\u001b[39mstr\u001b[39m] \u001b[39m=\u001b[39m []\n\u001b[1;32m      <a href='vscode-notebook-cell://mbdvnkvqeign.labs.coursera.org/home/coder/project/labs/assignment.ipynb#W4sdnNjb2RlLXJlbW90ZQ%3D%3D?line=3'>4</a>\u001b[0m \u001b[39m# YOUR CODE HERE\u001b[39;00m\n\u001b[0;32m----> <a href='vscode-notebook-cell://mbdvnkvqeign.labs.coursera.org/home/coder/project/labs/assignment.ipynb#W4sdnNjb2RlLXJlbW90ZQ%3D%3D?line=4'>5</a>\u001b[0m \u001b[39mraise\u001b[39;00m \u001b[39mNotImplementedError\u001b[39;00m()\n",
      "\u001b[0;31mNotImplementedError\u001b[0m: "
     ]
    }
   ],
   "source": [
    "# Invoke student code\n",
    "from contextlib import redirect_stderr\n",
    "import tempfile\n",
    "\n",
    "with redirect_stderr( tempfile.TemporaryFile('wt') ) as error_catcher:\n",
    "    results = generate_names()\n",
    "\n",
    "# Verify the length\n",
    "assert (\n",
    "    len(results) == 10\n",
    "), f\"You did not return ten and only ten results, instead we got {len(results)}.\"\n"
   ]
  },
  {
   "cell_type": "markdown",
   "metadata": {
    "deletable": false,
    "editable": false,
    "nbgrader": {
     "cell_type": "markdown",
     "checksum": "5092b408b504e3480b913af114f5fdac",
     "grade": false,
     "grade_id": "cell-4f1b08b3229159b4",
     "locked": true,
     "schema_version": 3,
     "solution": false,
     "task": false
    },
    "tags": []
   },
   "source": [
    "## Question 2\n",
    "\n",
    "Generate for me a list of 5 things to do in your hometown (or mine if you prefer, Ann Arbor Michigan!). The key is that\n",
    "these should all (a) start with a number and (b) be no more than three sentences long. So the following would be a good\n",
    "item:\n",
    "\n",
    "- 1\\. Go to the Henry Ford Museum. The Henry Ford Museum has all sorts of wonderful exhibits for all ages. One\n",
    "  particular highlight includes giants trains!\n",
    "\n",
    "While the following would **not be good items** (the first item does not start a numbered list, the second item is not a\n",
    "sentence as it doesn't end in punctuation, and the third item just goes on and on and on):\n",
    "\n",
    "- A\\. Go to the University of Michigan. The University of Michigan is a school with more than 50,000 students in Ann\n",
    "  Arbor, MI. The University of Michigan is a public School.\n",
    "- 2\\. Visit the Detroit Eastern Market\n",
    "- 3\\. Visit Sleeping Bear Dunes. The dunes are located along the northwest coast of the Lower Peninsula of Michigan in\n",
    "  Leelanau and Benzie counties near Traverse City. It covers a 35-mile-long stretch of Lake Michigan's eastern\n",
    "  coastline, as well as North and South Manitou islands. This national park is known for its massive dunes, some of\n",
    "  which are over 400 feet high. The area gets its name from the Native American legend of the Sleeping Bear. According\n",
    "  to the story, a mother bear and her two cubs were trying to cross Lake Michigan from Wisconsin to escape a forest\n",
    "  fire.\n"
   ]
  },
  {
   "cell_type": "code",
   "execution_count": null,
   "metadata": {
    "deletable": false,
    "nbgrader": {
     "cell_type": "code",
     "checksum": "4b1a35b9aa6649f1932abeb7de9818ea",
     "grade": false,
     "grade_id": "q2_answer",
     "locked": false,
     "schema_version": 3,
     "solution": true,
     "task": false
    },
    "tags": []
   },
   "outputs": [],
   "source": [
    "def generate_trip_recommendations() -> list[str]:\n",
    "    results: list[str] = []\n",
    "\n",
    "    # YOUR CODE HERE\n",
    "    raise NotImplementedError()"
   ]
  },
  {
   "cell_type": "code",
   "execution_count": null,
   "metadata": {
    "deletable": false,
    "editable": false,
    "nbgrader": {
     "cell_type": "code",
     "checksum": "f7f465c503a587ba812eb7973226059d",
     "grade": true,
     "grade_id": "q2_tests",
     "locked": true,
     "points": 1,
     "schema_version": 3,
     "solution": false,
     "task": false
    },
    "tags": []
   },
   "outputs": [],
   "source": [
    "# Invoke student code\n",
    "from contextlib import redirect_stderr\n",
    "import re\n",
    "import tempfile\n",
    "\n",
    "with redirect_stderr( tempfile.TemporaryFile('wt') ) as error_catcher:\n",
    "    results=generate_trip_recommendations()\n",
    "\n",
    "# Verify length\n",
    "assert (\n",
    "    len(results) == 5\n",
    "), f\"You did not return five and only five results, instead we got {len(results)}.\"\n"
   ]
  },
  {
   "cell_type": "markdown",
   "metadata": {
    "deletable": false,
    "editable": false,
    "nbgrader": {
     "cell_type": "markdown",
     "checksum": "974df26680e2dcf0c96193bfa351ab1f",
     "grade": false,
     "grade_id": "cell-9346c18ecbf2c211",
     "locked": true,
     "schema_version": 3,
     "solution": false,
     "task": false
    },
    "tags": []
   },
   "source": [
    "## Question 3\n",
    "\n",
    "Generate for me US-based addresses which have a person's name which usually appears on the first line, an optional\n",
    "company name which often goes on the second line, a street address which has a number followed by some text description,\n",
    "a city and state where the state is a two letter identifier and comes after the city name, and zip code which is a five\n",
    "digit number (but as a string, since it could start with 0) followed by an optional hyphen and four more digits.\n",
    "\n",
    "To make it easy for you to conform to this set of requirements, I created a simple class from the following example --\n",
    "my mailing address!\n",
    "\n",
    "> Dr. Christopher Brooks\n",
    ">\n",
    "> > School of Information, University of Michigan\n",
    "> >\n",
    "> > 105 S. State St.\n",
    "> >\n",
    "> > Ann Arbor, MI\n",
    "> >\n",
    "> > 48109-1285\n",
    "\n",
    "Your function should return exactly 5 of these entries!\n",
    "\n",
    "And, if you've gotten this far in the course, why not send me a postcard and introduce yourself? Everyone loves getting\n",
    "mail!\n",
    "\n",
    "(Don't forget to add **United States** if sending mail internationally, even though field is missing from the assignment\n",
    "`MailingAddress` class.)\n"
   ]
  },
  {
   "cell_type": "code",
   "execution_count": null,
   "metadata": {
    "deletable": false,
    "nbgrader": {
     "cell_type": "code",
     "checksum": "eb51a0f4419a07909c9d0739066872ed",
     "grade": false,
     "grade_id": "q3_answer",
     "locked": false,
     "schema_version": 3,
     "solution": true,
     "task": false
    },
    "tags": []
   },
   "outputs": [],
   "source": [
    "from dataclasses import dataclass\n",
    "\n",
    "\n",
    "@dataclass\n",
    "class MailingAddress:\n",
    "    name: str  # Full name, e.g. Dr. Christopher Brooks\n",
    "    business_name: (\n",
    "        str | None\n",
    "    )  # Optional business name, e.g. School of Information, University of Michigan\n",
    "    street_number: int  # Numeric address value, e.g. 105\n",
    "    street_text: str  # Street information other than numeric address, e.g. S. State St.\n",
    "    city: str  # City name, e.g. Ann Arbor\n",
    "    state: str  # State name, only two letters, e.g. MI for Michigan\n",
    "    zip_code_short: str  # The first five digits of the zip code, e.g. 48109, as a string value, since it could start with 0\n",
    "    zip_code_long: (\n",
    "        str | None\n",
    "    )  # The extended zip code (optional) which is the full zip code, e.g. 48109-1285\n",
    "\n",
    "\n",
    "def generate_addresses() -> list[MailingAddress]:\n",
    "    results: list[MailingAddress] = []\n",
    "\n",
    "    # YOUR CODE HERE\n",
    "    raise NotImplementedError()"
   ]
  },
  {
   "cell_type": "code",
   "execution_count": null,
   "metadata": {
    "deletable": false,
    "editable": false,
    "nbgrader": {
     "cell_type": "code",
     "checksum": "13601272aa80123aa193dd273afaf8a1",
     "grade": true,
     "grade_id": "q3_tests",
     "locked": true,
     "points": 1,
     "schema_version": 3,
     "solution": false,
     "task": false
    },
    "tags": []
   },
   "outputs": [],
   "source": [
    "# Invoke student code\n",
    "from contextlib import redirect_stderr\n",
    "import tempfile\n",
    "\n",
    "with redirect_stderr( tempfile.TemporaryFile('wt') ) as error_catcher:\n",
    "    results=generate_addresses()\n",
    "\n",
    "# Verify length\n",
    "assert (\n",
    "    len(results) == 5\n",
    "), f\"You did not return five and only five results, instead we got {len(results)}.\"\n"
   ]
  }
 ],
 "metadata": {
  "kernelspec": {
   "display_name": "Python 3 (ipykernel)",
   "language": "python",
   "name": "python3"
  },
  "language_info": {
   "codemirror_mode": {
    "name": "ipython",
    "version": 3
   },
   "file_extension": ".py",
   "mimetype": "text/x-python",
   "name": "python",
   "nbconvert_exporter": "python",
   "pygments_lexer": "ipython3",
   "version": "3.11.9"
  }
 },
 "nbformat": 4,
 "nbformat_minor": 4
}
